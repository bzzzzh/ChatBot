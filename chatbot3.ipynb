{
  "nbformat": 4,
  "nbformat_minor": 0,
  "metadata": {
    "colab": {
      "name": "chatbot3.ipynb",
      "provenance": [],
      "collapsed_sections": [
        "pJSGa7xKB3Ac",
        "-QUZCf034SZG",
        "jruUJte0OeAR",
        "MpReAAaHOjRc",
        "Uj5g3Y9HYuqY",
        "19PWjXcMlJaM",
        "fAb6rLvMkhBz",
        "IOlmxWyQ4Y6E"
      ]
    },
    "kernelspec": {
      "name": "python3",
      "display_name": "Python 3"
    }
  },
  "cells": [
    {
      "cell_type": "markdown",
      "metadata": {
        "id": "u1MchIA78in_"
      },
      "source": [
        "#This is the personal asistant chatbot we create for the NLP final project"
      ]
    },
    {
      "cell_type": "markdown",
      "metadata": {
        "id": "pJSGa7xKB3Ac"
      },
      "source": [
        "##pairs"
      ]
    },
    {
      "cell_type": "code",
      "metadata": {
        "id": "02RQMmLkqNff"
      },
      "source": [
        "pairs = [\n",
        "    [\n",
        "        r\"my name is (.*)\",\n",
        "        [\"Hello %1, How are you today ?\",]\n",
        "    ],\n",
        "     [\n",
        "        r\"(what is your name|who are you) ?\",\n",
        "        [\"My name is Chatty and I'm a chatbot ?\",]\n",
        "    ],\n",
        "    [\n",
        "        r\"how are you ?\",\n",
        "        [\"I'm doing good\\nHow about You ?\",]\n",
        "    ],\n",
        "    [\n",
        "        r\"sorry (.*)\",\n",
        "        [\"Its alright\",\"Its OK, never mind\",]\n",
        "    ],\n",
        "    [\n",
        "        r\"i'm (.*) doing good\",\n",
        "        [\"Nice to hear that\",\"Alright :)\",]\n",
        "    ],\n",
        "    [\n",
        "        r\"hi|hey|hello\",\n",
        "        [\"Hello\", \"Hey there\",]\n",
        "    ],\n",
        "    [\n",
        "        r\"(.*) age?\",\n",
        "        [\"I'm a computer program dude\\nSeriously you are asking me this?\",]\n",
        "        \n",
        "    ],\n",
        "    [\n",
        "        r\"what (.*) want ?\",\n",
        "        [\"Make me an offer I can't refuse\",]\n",
        "        \n",
        "    ],\n",
        "    [\n",
        "        r\"(.*) created ?\",\n",
        "        [\"Nagesh created me using Python's NLTK library \",\"top secret ;)\",]\n",
        "    ],\n",
        "    [\n",
        "        r\"i work in (.*)?\",\n",
        "        [\"%1 is an Amazing company, I have heard about it. But they are in huge loss these days.\",]\n",
        "    ],\n",
        "    [\n",
        "        r\"(.*)raining in (.*)\",\n",
        "        [\"No rain since last week here in %2\",\"Damn its raining too much here in %2\"]\n",
        "    ],\n",
        "    [\n",
        "        r\"how (.*) health(.*)\",\n",
        "        [\"I'm a computer program, so I'm always healthy \",]\n",
        "    ],\n",
        "    [\n",
        "        r\"who (.*) sportsperson ?\",\n",
        "        [\"Messy\",\"Ronaldo\",\"Roony\"]\n",
        "    ],\n",
        "    [\n",
        "        r\"(.*) (sports|game) ?\",\n",
        "        [\"I'm a very big fan of Football\",]\n",
        "    ],\n",
        "    [\n",
        "        r\"who (.*) (moviestar|actor)?\",\n",
        "        [\"Brad Pitt\",\"Maybe it's you\"]\n",
        "    ],\n",
        "    [\n",
        "        r\"quit\",\n",
        "        [\"BBye take care. See you soon :) \",\"It was nice talking to you. See you soon :)\"]\n",
        "    ],\n",
        "    [\n",
        "        r\"what can you do ?\",\n",
        "        [\"I can chat with you\",]\n",
        "    ],\n",
        "    [\n",
        "        r\"(.*) you feel?\",\n",
        "        [\"I am happy!\"]\n",
        "    ],\n",
        "    [\n",
        "        r\"thanks|thank you\",\n",
        "        [\"You are welcome!\"]\n",
        "    ],\n",
        "    ##################################\n",
        "    # mini function response\n",
        "    [\n",
        "        r\"((what|tell).*time.*)\",\n",
        "        [\"Give me a sec...\"]\n",
        "    ],\n",
        "    [\n",
        "        r\"(.*(open|take|write|edit).*note.*)\",\n",
        "        [\"Opening notebook...\"]\n",
        "    ],\n",
        "    [\n",
        "        r\"(.*(view|see).*note.*)\",\n",
        "        [\"Notebook opening...\"]\n",
        "    ],\n",
        "    [\n",
        "        r\"(.*(delete|remove|empty|clear).*note.*)\",\n",
        "        [\"Deleting notebook...\"]\n",
        "    ],\n",
        "    [\n",
        "        r\"[\\d\\+\\-\\*\\/= ]+\",\n",
        "        [\"Calculating...\"]\n",
        "    ],\n",
        "    [\n",
        "        r\"(who|where|why|what|how) (.*[?])\",\n",
        "        [\"Emm...\"]\n",
        "    ],\n",
        "    [\n",
        "        r\"(.*[?])\",\n",
        "        [\"Emm... I'm not sure\"]\n",
        "    ],\n",
        "    [\n",
        "        r\"(.*)\",\n",
        "        [\"that's interesting\",\"great!\",\"ok\",\"let me think about that...\"]\n",
        "    ],\n",
        "]\n"
      ],
      "execution_count": null,
      "outputs": []
    },
    {
      "cell_type": "markdown",
      "metadata": {
        "id": "fAb6rLvMkhBz"
      },
      "source": [
        "##N-GRAM"
      ]
    },
    {
      "cell_type": "code",
      "metadata": {
        "id": "QI5VNr-ykljj",
        "colab": {
          "base_uri": "https://localhost:8080/",
          "height": 34
        },
        "outputId": "35593f10-b9ce-4677-c4e4-1eb59f9b1e43"
      },
      "source": [
        "#from google.colab import drive\n",
        "#drive.mount('/content/drive')\n",
        "\n",
        "f = open(\"/content/sample_data/BNCSplitWordsCorpus.txt\", 'r')\n",
        "data = f.read()\n",
        "type(data)"
      ],
      "execution_count": null,
      "outputs": [
        {
          "output_type": "execute_result",
          "data": {
            "text/plain": [
              "str"
            ]
          },
          "metadata": {
            "tags": []
          },
          "execution_count": 7
        }
      ]
    },
    {
      "cell_type": "code",
      "metadata": {
        "id": "EFztGMFp8cn5",
        "colab": {
          "base_uri": "https://localhost:8080/",
          "height": 398
        },
        "outputId": "a92145d7-cea2-4b26-b1c9-40deb15c1194"
      },
      "source": [
        "!--NotebookApp.iopub_data_rate_limit = 1000000000"
      ],
      "execution_count": null,
      "outputs": [
        {
          "output_type": "stream",
          "text": [
            "/bin/bash: --: invalid option\n",
            "Usage:\t/bin/bash [GNU long option] [option] ...\n",
            "\t/bin/bash [GNU long option] [option] script-file ...\n",
            "GNU long options:\n",
            "\t--debug\n",
            "\t--debugger\n",
            "\t--dump-po-strings\n",
            "\t--dump-strings\n",
            "\t--help\n",
            "\t--init-file\n",
            "\t--login\n",
            "\t--noediting\n",
            "\t--noprofile\n",
            "\t--norc\n",
            "\t--posix\n",
            "\t--rcfile\n",
            "\t--restricted\n",
            "\t--verbose\n",
            "\t--version\n",
            "Shell options:\n",
            "\t-ilrsD or -c command or -O shopt_option\t\t(invocation only)\n",
            "\t-abefhkmnptuvxBCHP or -o option\n"
          ],
          "name": "stdout"
        }
      ]
    },
    {
      "cell_type": "code",
      "metadata": {
        "id": "3DcGQ5oYktgA",
        "colab": {
          "base_uri": "https://localhost:8080/",
          "height": 190
        },
        "outputId": "41ad8065-f8f5-4c1d-ba0a-7dd1eb54f0fc"
      },
      "source": [
        "# basically we simply use split() function to separate each word from spaces, newlines\n",
        "tokens = data.split()\n",
        "tokens = [word.lower() for word in tokens]\n",
        "print(tokens)\n",
        "#removed punctuation if necessary\n",
        "import string\n",
        "tokens = [''.join(c for c in s if c not in string.punctuation) for s in tokens]\n",
        "print(tokens)"
      ],
      "execution_count": null,
      "outputs": [
        {
          "output_type": "stream",
          "text": [
            "IOPub data rate exceeded.\n",
            "The notebook server will temporarily stop sending output\n",
            "to the client in order to avoid crashing it.\n",
            "To change this limit, set the config variable\n",
            "`--NotebookApp.iopub_data_rate_limit`.\n",
            "\n",
            "Current values:\n",
            "NotebookApp.iopub_data_rate_limit=1000000.0 (bytes/sec)\n",
            "NotebookApp.rate_limit_window=3.0 (secs)\n",
            "\n"
          ],
          "name": "stderr"
        }
      ]
    },
    {
      "cell_type": "code",
      "metadata": {
        "id": "GXg5D8TNk8Xd"
      },
      "source": [
        "# N: n in ngram, s: input token\n",
        "def ngram(n,s):\n",
        "  res = {}\n",
        "  for x in range(0,len(s)-n+1):\n",
        "    temp = []\n",
        "    temp = s[x:x+n];\n",
        "    temptuple = tuple(temp)\n",
        "    if temptuple in res:\n",
        "      res[temptuple] += 1\n",
        "    else:\n",
        "      res[temptuple] = 1 \n",
        "  return res"
      ],
      "execution_count": null,
      "outputs": []
    },
    {
      "cell_type": "code",
      "metadata": {
        "id": "3xEcQP0rlBRw"
      },
      "source": [
        "test = ngram(3,tokens)\n",
        "# print in sorted order\n",
        "listofTuples = sorted(test.items() , reverse=True, key=lambda x: x[1]) \n",
        "for elem in listofTuples[0:5] :\n",
        "  print(elem[0] , \" :\" , elem[1] ) "
      ],
      "execution_count": null,
      "outputs": []
    },
    {
      "cell_type": "markdown",
      "metadata": {
        "id": "-QUZCf034SZG"
      },
      "source": [
        "##spell checker"
      ]
    },
    {
      "cell_type": "code",
      "metadata": {
        "id": "Xs0xtY18PcjE",
        "outputId": "84a084af-07fb-4a10-b9d9-ab24cc5b37bf",
        "colab": {
          "base_uri": "https://localhost:8080/"
        }
      },
      "source": [
        "#apply spell checker to this chatbot\n",
        "import nltk\n",
        "from nltk.corpus import wordnet\n",
        "from nltk.corpus import words\n",
        "from nltk.tokenize import sent_tokenize,word_tokenize\n",
        "!pip install spellchecker\n",
        "!pip install pyspellchecker\n",
        "from spellchecker import SpellChecker\n",
        "nltk.download('punkt')\n",
        "nltk.download('words')\n",
        "nltk.download('wordnet')\n"
      ],
      "execution_count": null,
      "outputs": [
        {
          "output_type": "stream",
          "text": [
            "Collecting spellchecker\n",
            "\u001b[?25l  Downloading https://files.pythonhosted.org/packages/8d/2f/95ff55a821f6fc83999f8418045ee472edcfd5fb06905090f68fda56a82a/spellchecker-0.4.tar.gz (3.9MB)\n",
            "\u001b[K     |████████████████████████████████| 3.9MB 3.4MB/s \n",
            "\u001b[?25hRequirement already satisfied: setuptools in /usr/local/lib/python3.6/dist-packages (from spellchecker) (47.1.1)\n",
            "Collecting inexactsearch\n",
            "  Downloading https://files.pythonhosted.org/packages/45/23/0b398af4295da99c5ab69d7b0bff36a2cb68e260a65f64717c17f6a20035/inexactsearch-1.0.2.tar.gz\n",
            "Collecting soundex>=1.0\n",
            "  Downloading https://files.pythonhosted.org/packages/f8/8f/37b9711595d007e82f70ae6f41b6ab6a1fda406a8321ccfc458fb5023b5f/soundex-1.1.3.tar.gz\n",
            "Collecting silpa_common>=0.3\n",
            "  Downloading https://files.pythonhosted.org/packages/8d/55/452f5103cb7071d188a818d9e2f12c19c4c8a12124a28aaa212eb6716a4d/silpa_common-0.3.tar.gz\n",
            "Building wheels for collected packages: spellchecker, inexactsearch, soundex, silpa-common\n",
            "  Building wheel for spellchecker (setup.py) ... \u001b[?25l\u001b[?25hdone\n",
            "  Created wheel for spellchecker: filename=spellchecker-0.4-cp36-none-any.whl size=3966516 sha256=6b52162c52130f81ff3ad9ce7ddce8cce32d06242ed9b3b15378df3f703cd072\n",
            "  Stored in directory: /root/.cache/pip/wheels/a2/e6/ad/28ab959cba7100f5c562a3d1711cd34b630734d241c4e1bd40\n",
            "  Building wheel for inexactsearch (setup.py) ... \u001b[?25l\u001b[?25hdone\n",
            "  Created wheel for inexactsearch: filename=inexactsearch-1.0.2-cp36-none-any.whl size=7113 sha256=f22b60be97dc74bb8916e15d9d9f178d4c05e1954009d0248c476f22a16adf6d\n",
            "  Stored in directory: /root/.cache/pip/wheels/58/e0/c1/e3fed0e9fd1a3708bc91870fb0ba30ef88527540006763674b\n",
            "  Building wheel for soundex (setup.py) ... \u001b[?25l\u001b[?25hdone\n",
            "  Created wheel for soundex: filename=soundex-1.1.3-cp36-none-any.whl size=8862 sha256=7f08b344e2ce481b5c556d355803e22cfd4e70ee7b6375b1828ab171cfaff73a\n",
            "  Stored in directory: /root/.cache/pip/wheels/b5/bb/e6/9a4b6be56c40aa707509bddaf6d414187461ded9db7a25a41a\n",
            "  Building wheel for silpa-common (setup.py) ... \u001b[?25l\u001b[?25hdone\n",
            "  Created wheel for silpa-common: filename=silpa_common-0.3-cp36-none-any.whl size=8453 sha256=b8f84e6292540d35b287b2d142a6df86553a2379f965a5691857975750b1a74b\n",
            "  Stored in directory: /root/.cache/pip/wheels/16/4f/ba/604a82bf904740f1a1d3ad88029c0df5c638bd8825a3cb972d\n",
            "Successfully built spellchecker inexactsearch soundex silpa-common\n",
            "Installing collected packages: silpa-common, soundex, inexactsearch, spellchecker\n",
            "Successfully installed inexactsearch-1.0.2 silpa-common-0.3 soundex-1.1.3 spellchecker-0.4\n",
            "Collecting pyspellchecker\n",
            "\u001b[?25l  Downloading https://files.pythonhosted.org/packages/04/d1/ec4e830e9f9c1fd788e1459dd09279fdf807bc7a475579fd7192450b879c/pyspellchecker-0.5.4-py2.py3-none-any.whl (1.9MB)\n",
            "\u001b[K     |████████████████████████████████| 1.9MB 3.2MB/s \n",
            "\u001b[?25hInstalling collected packages: pyspellchecker\n",
            "Successfully installed pyspellchecker-0.5.4\n",
            "[nltk_data] Downloading package punkt to /root/nltk_data...\n",
            "[nltk_data]   Unzipping tokenizers/punkt.zip.\n",
            "[nltk_data] Downloading package words to /root/nltk_data...\n",
            "[nltk_data]   Unzipping corpora/words.zip.\n",
            "[nltk_data] Downloading package wordnet to /root/nltk_data...\n",
            "[nltk_data]   Unzipping corpora/wordnet.zip.\n"
          ],
          "name": "stdout"
        },
        {
          "output_type": "execute_result",
          "data": {
            "text/plain": [
              "True"
            ]
          },
          "metadata": {
            "tags": []
          },
          "execution_count": 6
        }
      ]
    },
    {
      "cell_type": "code",
      "metadata": {
        "id": "33AX7DFqP22C"
      },
      "source": [
        "def spell_checker(s):\n",
        "  #first tokenize the input s\n",
        "  tokens = word_tokenize(s)\n",
        "  tokens = [word.lower() for word in tokens]\n",
        "  tokens = [word for word in tokens if word.isalpha()]\n",
        "  word_set = set(words.words())\n",
        "  misspelled = []\n",
        "  #check if the tokens are misspelled\n",
        "  for word in tokens:\n",
        "    if word not in word_set:\n",
        "      if not wordnet.synsets(word):\n",
        "        misspelled.append(word)\n",
        "  #check if the misspelled is empty\n",
        "  if(len(misspelled) == 0):\n",
        "    return s\n",
        "  else:\n",
        "    correct = []\n",
        "    for word in misspelled:\n",
        "      distanceVal = 1\n",
        "      while(1):\n",
        "        spell = SpellChecker(distance=distanceVal) \n",
        "        candidate = spell.candidates(word)\n",
        "        #if the current distance can get a correct word\n",
        "        if(len(candidate) != 0):\n",
        "          correct.append(list(candidate)[0])\n",
        "          #correct.append(spell.correction(word))\n",
        "          break;\n",
        "        else:\n",
        "          distanceVal+=1\n",
        "  ret = s\n",
        "  for i in range(len(misspelled)):\n",
        "    ret = ret.replace(misspelled[i], correct[i])\n",
        "  return ret"
      ],
      "execution_count": null,
      "outputs": []
    },
    {
      "cell_type": "code",
      "metadata": {
        "id": "ap6lep2VQjkT"
      },
      "source": [
        "#s = input(\"Enter:\")\n",
        "#spell_checker(s)"
      ],
      "execution_count": null,
      "outputs": []
    },
    {
      "cell_type": "markdown",
      "metadata": {
        "id": "Hl8PAboqlDyY"
      },
      "source": [
        "##Functions"
      ]
    },
    {
      "cell_type": "markdown",
      "metadata": {
        "id": "jruUJte0OeAR"
      },
      "source": [
        "###google search"
      ]
    },
    {
      "cell_type": "code",
      "metadata": {
        "id": "4T6ohMCXlDdy"
      },
      "source": [
        "from googlesearch import search\n",
        "\n",
        "def searchQuery(s):\n",
        "  query = s\n",
        "  \n",
        "  ## Google Search query results as a Python List of URLs\n",
        "  search_result_list = list(search(query, tld=\"co.in\", num=10, stop=3, pause=1))\n",
        "  return search_result_list"
      ],
      "execution_count": null,
      "outputs": []
    },
    {
      "cell_type": "code",
      "metadata": {
        "id": "1BuxJnvTlQhm"
      },
      "source": [
        ""
      ],
      "execution_count": null,
      "outputs": []
    },
    {
      "cell_type": "markdown",
      "metadata": {
        "id": "MpReAAaHOjRc"
      },
      "source": [
        "###time"
      ]
    },
    {
      "cell_type": "code",
      "metadata": {
        "id": "xcmdx1QIOlS4"
      },
      "source": [
        "from datetime import datetime\n",
        "import pytz\n",
        "def tellTime():\n",
        "  tz_west = pytz.timezone('US/Pacific') \n",
        "  datetime_west = datetime.now(tz_west)\n",
        "  print(\"It is \", datetime_west.strftime(\"%H:%M:%S\"), \" now\")"
      ],
      "execution_count": null,
      "outputs": []
    },
    {
      "cell_type": "markdown",
      "metadata": {
        "id": "Uj5g3Y9HYuqY"
      },
      "source": [
        "###notebook"
      ]
    },
    {
      "cell_type": "code",
      "metadata": {
        "id": "7phIq_fyYxF_"
      },
      "source": [
        "def openNote(notebook):\n",
        "  print(\"Here is your notebook, type \\\"quit\\\" to exit\")\n",
        "  print(\"- - - - - - - - - - - -\")\n",
        "  takenote = \"\"\n",
        "  while(1):\n",
        "    takenote = input(\"note:\")\n",
        "    if takenote == \"quit\":\n",
        "      break\n",
        "    if takenote != \"\":\n",
        "      notebook.append(takenote)\n",
        "  print(\"- - - - - - - - - - - -\")\n",
        "\n",
        "def viewNote(notebook):\n",
        "  if not notebook:\n",
        "    print(\"Notebook is empty\")\n",
        "    return\n",
        "  print(\"- - - - - - - - - - - -\")\n",
        "  for i in notebook:\n",
        "    print(i)\n",
        "  print(\"- - - - - - - - - - - -\")\n",
        "\n",
        "def deleteNote(notebook):\n",
        "  notebook = []\n",
        "  print(\"Done!\")\n",
        "  return notebook"
      ],
      "execution_count": null,
      "outputs": []
    },
    {
      "cell_type": "markdown",
      "metadata": {
        "id": "19PWjXcMlJaM"
      },
      "source": [
        "###calculator"
      ]
    },
    {
      "cell_type": "code",
      "metadata": {
        "id": "FVFr5MbtiZD5"
      },
      "source": [
        "def chatCalc(s):\n",
        "  print(s,\"=\", str(eval(s)))"
      ],
      "execution_count": null,
      "outputs": []
    },
    {
      "cell_type": "markdown",
      "metadata": {
        "id": "X2vvefOVZNLR"
      },
      "source": [
        "##Text to Speech"
      ]
    },
    {
      "cell_type": "code",
      "metadata": {
        "id": "IvaU9x-2ZYpy"
      },
      "source": [
        "import os\n",
        "from gtts import gTTS\n",
        "# Options\n",
        "text_to_read = \"This is just a test using GTTS, a Python package library\"\n",
        "language = 'en'\n",
        "slow_audio_speed = False\n",
        "filename = 'my_file.mp3'"
      ],
      "execution_count": null,
      "outputs": []
    },
    {
      "cell_type": "code",
      "metadata": {
        "id": "0J-hRiG2Iqs_"
      },
      "source": [
        "\"\"\"\n",
        " Reading from a string\n",
        "\"\"\"\n",
        "def reading_from_string():\n",
        "    audio_created = gTTS(text=text_to_read, lang=language,\n",
        "                         slow=slow_audio_speed)\n",
        "    audio_created.save(filename)\n",
        "    os.system(f'start {filename}')"
      ],
      "execution_count": null,
      "outputs": []
    },
    {
      "cell_type": "markdown",
      "metadata": {
        "id": "IOlmxWyQ4Y6E"
      },
      "source": [
        "##NLTK.chat source code edited"
      ]
    },
    {
      "cell_type": "code",
      "metadata": {
        "id": "cWCdgCCz2lcw"
      },
      "source": [
        "# Natural Language Toolkit: Chatbot Utilities\n",
        "#\n",
        "# Copyright (C) 2001-2020 NLTK Project\n",
        "# Authors: Steven Bird <stevenbird1@gmail.com>\n",
        "# URL: <http://nltk.org/>\n",
        "# For license information, see LICENSE.TXT\n",
        "\n",
        "# Based on an Eliza implementation by Joe Strout <joe@strout.net>,\n",
        "# Jeff Epler <jepler@inetnebr.com> and Jez Higgins <jez@jezuk.co.uk>.\n",
        "\n",
        "import re\n",
        "import random\n",
        "\n",
        "\n",
        "reflections = {\n",
        "    \"i am\": \"you are\",\n",
        "    \"i was\": \"you were\",\n",
        "    \"i\": \"you\",\n",
        "    \"i'm\": \"you are\",\n",
        "    \"i'd\": \"you would\",\n",
        "    \"i've\": \"you have\",\n",
        "    \"i'll\": \"you will\",\n",
        "    \"my\": \"your\",\n",
        "    \"you are\": \"I am\",\n",
        "    \"you were\": \"I was\",\n",
        "    \"you've\": \"I have\",\n",
        "    \"you'll\": \"I will\",\n",
        "    \"your\": \"my\",\n",
        "    \"yours\": \"mine\",\n",
        "    \"you\": \"me\",\n",
        "    \"me\": \"you\",\n",
        "}\n",
        "class Chat(object):\n",
        "    def __init__(self, pairs, reflections={}):\n",
        "        \"\"\"\n",
        "        Initialize the chatbot.  Pairs is a list of patterns and responses.  Each\n",
        "        pattern is a regular expression matching the user's statement or question,\n",
        "        e.g. r'I like (.*)'.  For each such pattern a list of possible responses\n",
        "        is given, e.g. ['Why do you like %1', 'Did you ever dislike %1'].  Material\n",
        "        which is matched by parenthesized sections of the patterns (e.g. .*) is mapped to\n",
        "        the numbered positions in the responses, e.g. %1.\n",
        "\n",
        "        :type pairs: list of tuple\n",
        "        :param pairs: The patterns and responses\n",
        "        :type reflections: dict\n",
        "        :param reflections: A mapping between first and second person expressions\n",
        "        :rtype: None\n",
        "        \"\"\"\n",
        "\n",
        "        self._pairs = [(re.compile(x, re.IGNORECASE), y) for (x, y) in pairs]\n",
        "        self._reflections = reflections\n",
        "        self._regex = self._compile_reflections()\n",
        "\n",
        "    def _compile_reflections(self):\n",
        "        sorted_refl = sorted(self._reflections, key=len, reverse=True)\n",
        "        return re.compile(\n",
        "            r\"\\b({0})\\b\".format(\"|\".join(map(re.escape, sorted_refl))), re.IGNORECASE\n",
        "        )\n",
        "\n",
        "    def _substitute(self, str):\n",
        "        \"\"\"\n",
        "        Substitute words in the string, according to the specified reflections,\n",
        "        e.g. \"I'm\" -> \"you are\"\n",
        "\n",
        "        :type str: str\n",
        "        :param str: The string to be mapped\n",
        "        :rtype: str\n",
        "        \"\"\"\n",
        "\n",
        "        return self._regex.sub(\n",
        "            lambda mo: self._reflections[mo.string[mo.start() : mo.end()]], str.lower()\n",
        "        )\n",
        "\n",
        "    def _wildcards(self, response, match):\n",
        "        pos = response.find(\"%\")\n",
        "        while pos >= 0:\n",
        "            num = int(response[pos + 1 : pos + 2])\n",
        "            response = (\n",
        "                response[:pos]\n",
        "                + self._substitute(match.group(num))\n",
        "                + response[pos + 2 :]\n",
        "            )\n",
        "            pos = response.find(\"%\")\n",
        "        return response\n",
        "    def respond(self, str):\n",
        "            \"\"\"\n",
        "            Generate a response to the user input.\n",
        "\n",
        "            :type str: str\n",
        "            :param str: The string to be mapped\n",
        "            :rtype: str\n",
        "            \"\"\"\n",
        "\n",
        "            # check each pattern\n",
        "            for (pattern, response) in self._pairs:\n",
        "                match = pattern.match(str)\n",
        "\n",
        "                # did the pattern match?\n",
        "                if match:\n",
        "                    resp = random.choice(response)  # pick a random response\n",
        "                    resp = self._wildcards(resp, match)  # process wildcards\n",
        "\n",
        "                    # fix munged punctuation at the end\n",
        "                    if resp[-2:] == \"?.\":\n",
        "                        resp = resp[:-2] + \".\"\n",
        "                    if resp[-2:] == \"??\":\n",
        "                        resp = resp[:-2] + \"?\"\n",
        "                    return resp\n",
        "                    \n",
        "    def converse(self, quit=\"quit\"):\n",
        "      user_input = \"\"\n",
        "      # initialize empty notebook\n",
        "      notebook = []\n",
        "      while user_input != quit:\n",
        "        user_input = quit\n",
        "        try:\n",
        "          get_input = input(\">\")\n",
        "          user_input = spell_checker(get_input)\n",
        "          #added spell checker\n",
        "          if(get_input != user_input):\n",
        "            print(\"Do you mean: \\\"\" + user_input + \"\\\"?\")\n",
        "          \n",
        "        except EOFError:\n",
        "          print(user_input)\n",
        "        if user_input:\n",
        "          while user_input[-1] in \"!.\":\n",
        "              user_input = user_input[:-1]\n",
        "          user_respond = self.respond(user_input)\n",
        "          print(user_respond)\n",
        "          #check if answer can google search\n",
        "          search_result_list = searchQuery(user_input)\n",
        "          if user_respond == \"Emm...\":\n",
        "            print(\"You may found the following useful:\")\n",
        "            for i in search_result_list:\n",
        "              print(i)\n",
        "            print(\"What else may I help you?\")\n",
        "          #check if ask time\n",
        "          if user_respond == \"Give me a sec...\":\n",
        "            tellTime()\n",
        "            print(\"What else may I help you?\")\n",
        "          #check writing notebook\n",
        "          if user_respond == \"Opening notebook...\": \n",
        "            openNote(notebook)\n",
        "            print(\"What else may I help you?\") \n",
        "          #check view notebook\n",
        "          if user_respond == \"Notebook opening...\": \n",
        "            viewNote(notebook)\n",
        "            print(\"What else may I help you?\")\n",
        "          #check delete notebook\n",
        "          if user_respond == \"Deleting notebook...\": \n",
        "            notebook = deleteNote(notebook)\n",
        "            print(\"What else may I help you?\")\n",
        "          #check calculator\n",
        "          if user_respond == \"Calculating...\": \n",
        "            chatCalc(user_input)\n",
        "          \n",
        "          \n",
        "            "
      ],
      "execution_count": null,
      "outputs": []
    },
    {
      "cell_type": "markdown",
      "metadata": {
        "id": "vxTW3Jy14fTb"
      },
      "source": [
        "##main function"
      ]
    },
    {
      "cell_type": "code",
      "metadata": {
        "id": "Am1KgycIqkyD",
        "outputId": "62a993dc-d143-496b-cf5e-12940dc5b9df",
        "colab": {
          "base_uri": "https://localhost:8080/",
          "height": 501
        }
      },
      "source": [
        "def assistChat():\n",
        "    print(\"Hi, I'm your virtual assistant ;)\\nPlease ask me anything! Type quit to leave.\") #default message at the start\n",
        "    chat = Chat(pairs, reflections)\n",
        "    chat.converse()\n",
        "    \n",
        "if __name__ == \"__main__\":\n",
        "    assistChat()"
      ],
      "execution_count": null,
      "outputs": [
        {
          "output_type": "stream",
          "text": [
            "Hi, I'm your virtual assistant ;)\n",
            "Please ask me anything! Type quit to leave.\n",
            ">what time is it?\n",
            "Give me a sec...\n"
          ],
          "name": "stdout"
        },
        {
          "output_type": "error",
          "ename": "OSError",
          "evalue": "ignored",
          "traceback": [
            "\u001b[0;31m---------------------------------------------------------------------------\u001b[0m",
            "\u001b[0;31mKeyError\u001b[0m                                  Traceback (most recent call last)",
            "\u001b[0;32m/usr/local/lib/python3.6/dist-packages/pyttsx3/__init__.py\u001b[0m in \u001b[0;36minit\u001b[0;34m(driverName, debug)\u001b[0m\n\u001b[1;32m     19\u001b[0m     \u001b[0;32mtry\u001b[0m\u001b[0;34m:\u001b[0m\u001b[0;34m\u001b[0m\u001b[0;34m\u001b[0m\u001b[0m\n\u001b[0;32m---> 20\u001b[0;31m         \u001b[0meng\u001b[0m \u001b[0;34m=\u001b[0m \u001b[0m_activeEngines\u001b[0m\u001b[0;34m[\u001b[0m\u001b[0mdriverName\u001b[0m\u001b[0;34m]\u001b[0m\u001b[0;34m\u001b[0m\u001b[0;34m\u001b[0m\u001b[0m\n\u001b[0m\u001b[1;32m     21\u001b[0m     \u001b[0;32mexcept\u001b[0m \u001b[0mKeyError\u001b[0m\u001b[0;34m:\u001b[0m\u001b[0;34m\u001b[0m\u001b[0;34m\u001b[0m\u001b[0m\n",
            "\u001b[0;32m/usr/lib/python3.6/weakref.py\u001b[0m in \u001b[0;36m__getitem__\u001b[0;34m(self, key)\u001b[0m\n\u001b[1;32m    136\u001b[0m             \u001b[0mself\u001b[0m\u001b[0;34m.\u001b[0m\u001b[0m_commit_removals\u001b[0m\u001b[0;34m(\u001b[0m\u001b[0;34m)\u001b[0m\u001b[0;34m\u001b[0m\u001b[0;34m\u001b[0m\u001b[0m\n\u001b[0;32m--> 137\u001b[0;31m         \u001b[0mo\u001b[0m \u001b[0;34m=\u001b[0m \u001b[0mself\u001b[0m\u001b[0;34m.\u001b[0m\u001b[0mdata\u001b[0m\u001b[0;34m[\u001b[0m\u001b[0mkey\u001b[0m\u001b[0;34m]\u001b[0m\u001b[0;34m(\u001b[0m\u001b[0;34m)\u001b[0m\u001b[0;34m\u001b[0m\u001b[0;34m\u001b[0m\u001b[0m\n\u001b[0m\u001b[1;32m    138\u001b[0m         \u001b[0;32mif\u001b[0m \u001b[0mo\u001b[0m \u001b[0;32mis\u001b[0m \u001b[0;32mNone\u001b[0m\u001b[0;34m:\u001b[0m\u001b[0;34m\u001b[0m\u001b[0;34m\u001b[0m\u001b[0m\n",
            "\u001b[0;31mKeyError\u001b[0m: None",
            "\nDuring handling of the above exception, another exception occurred:\n",
            "\u001b[0;31mOSError\u001b[0m                                   Traceback (most recent call last)",
            "\u001b[0;32m<ipython-input-44-ab007117a9e9>\u001b[0m in \u001b[0;36m<module>\u001b[0;34m()\u001b[0m\n\u001b[1;32m      5\u001b[0m \u001b[0;34m\u001b[0m\u001b[0m\n\u001b[1;32m      6\u001b[0m \u001b[0;32mif\u001b[0m \u001b[0m__name__\u001b[0m \u001b[0;34m==\u001b[0m \u001b[0;34m\"__main__\"\u001b[0m\u001b[0;34m:\u001b[0m\u001b[0;34m\u001b[0m\u001b[0;34m\u001b[0m\u001b[0m\n\u001b[0;32m----> 7\u001b[0;31m     \u001b[0massistChat\u001b[0m\u001b[0;34m(\u001b[0m\u001b[0;34m)\u001b[0m\u001b[0;34m\u001b[0m\u001b[0;34m\u001b[0m\u001b[0m\n\u001b[0m",
            "\u001b[0;32m<ipython-input-44-ab007117a9e9>\u001b[0m in \u001b[0;36massistChat\u001b[0;34m()\u001b[0m\n\u001b[1;32m      2\u001b[0m     \u001b[0mprint\u001b[0m\u001b[0;34m(\u001b[0m\u001b[0;34m\"Hi, I'm your virtual assistant ;)\\nPlease ask me anything! Type quit to leave.\"\u001b[0m\u001b[0;34m)\u001b[0m \u001b[0;31m#default message at the start\u001b[0m\u001b[0;34m\u001b[0m\u001b[0;34m\u001b[0m\u001b[0m\n\u001b[1;32m      3\u001b[0m     \u001b[0mchat\u001b[0m \u001b[0;34m=\u001b[0m \u001b[0mChat\u001b[0m\u001b[0;34m(\u001b[0m\u001b[0mpairs\u001b[0m\u001b[0;34m,\u001b[0m \u001b[0mreflections\u001b[0m\u001b[0;34m)\u001b[0m\u001b[0;34m\u001b[0m\u001b[0;34m\u001b[0m\u001b[0m\n\u001b[0;32m----> 4\u001b[0;31m     \u001b[0mchat\u001b[0m\u001b[0;34m.\u001b[0m\u001b[0mconverse\u001b[0m\u001b[0;34m(\u001b[0m\u001b[0;34m)\u001b[0m\u001b[0;34m\u001b[0m\u001b[0;34m\u001b[0m\u001b[0m\n\u001b[0m\u001b[1;32m      5\u001b[0m \u001b[0;34m\u001b[0m\u001b[0m\n\u001b[1;32m      6\u001b[0m \u001b[0;32mif\u001b[0m \u001b[0m__name__\u001b[0m \u001b[0;34m==\u001b[0m \u001b[0;34m\"__main__\"\u001b[0m\u001b[0;34m:\u001b[0m\u001b[0;34m\u001b[0m\u001b[0;34m\u001b[0m\u001b[0m\n",
            "\u001b[0;32m<ipython-input-22-42c1f73769c1>\u001b[0m in \u001b[0;36mconverse\u001b[0;34m(self, quit)\u001b[0m\n\u001b[1;32m    140\u001b[0m           \u001b[0;31m#check if ask time\u001b[0m\u001b[0;34m\u001b[0m\u001b[0;34m\u001b[0m\u001b[0;34m\u001b[0m\u001b[0m\n\u001b[1;32m    141\u001b[0m           \u001b[0;32mif\u001b[0m \u001b[0muser_respond\u001b[0m \u001b[0;34m==\u001b[0m \u001b[0;34m\"Give me a sec...\"\u001b[0m\u001b[0;34m:\u001b[0m\u001b[0;34m\u001b[0m\u001b[0;34m\u001b[0m\u001b[0m\n\u001b[0;32m--> 142\u001b[0;31m             \u001b[0mvoiceAssist\u001b[0m\u001b[0;34m(\u001b[0m\u001b[0;34m\"Give me a sec...\"\u001b[0m\u001b[0;34m)\u001b[0m\u001b[0;34m\u001b[0m\u001b[0;34m\u001b[0m\u001b[0m\n\u001b[0m\u001b[1;32m    143\u001b[0m             \u001b[0mtellTime\u001b[0m\u001b[0;34m(\u001b[0m\u001b[0;34m)\u001b[0m\u001b[0;34m\u001b[0m\u001b[0;34m\u001b[0m\u001b[0m\n\u001b[1;32m    144\u001b[0m             \u001b[0mprint\u001b[0m\u001b[0;34m(\u001b[0m\u001b[0;34m\"What else may I help you?\"\u001b[0m\u001b[0;34m)\u001b[0m\u001b[0;34m\u001b[0m\u001b[0;34m\u001b[0m\u001b[0m\n",
            "\u001b[0;32m<ipython-input-43-92672b8f2491>\u001b[0m in \u001b[0;36mvoiceAssist\u001b[0;34m(command)\u001b[0m\n\u001b[1;32m      1\u001b[0m \u001b[0;32mdef\u001b[0m \u001b[0mvoiceAssist\u001b[0m\u001b[0;34m(\u001b[0m\u001b[0mcommand\u001b[0m\u001b[0;34m)\u001b[0m\u001b[0;34m:\u001b[0m\u001b[0;34m\u001b[0m\u001b[0;34m\u001b[0m\u001b[0m\n\u001b[0;32m----> 2\u001b[0;31m   \u001b[0mengine\u001b[0m \u001b[0;34m=\u001b[0m \u001b[0mpyttsx3\u001b[0m\u001b[0;34m.\u001b[0m\u001b[0minit\u001b[0m\u001b[0;34m(\u001b[0m\u001b[0;34m)\u001b[0m\u001b[0;34m\u001b[0m\u001b[0;34m\u001b[0m\u001b[0m\n\u001b[0m\u001b[1;32m      3\u001b[0m   \u001b[0mengine\u001b[0m\u001b[0;34m.\u001b[0m\u001b[0msay\u001b[0m\u001b[0;34m(\u001b[0m\u001b[0mcommand\u001b[0m\u001b[0;34m)\u001b[0m\u001b[0;34m\u001b[0m\u001b[0;34m\u001b[0m\u001b[0m\n\u001b[1;32m      4\u001b[0m   \u001b[0mengine\u001b[0m\u001b[0;34m.\u001b[0m\u001b[0mrunAndWait\u001b[0m\u001b[0;34m(\u001b[0m\u001b[0;34m)\u001b[0m\u001b[0;34m\u001b[0m\u001b[0;34m\u001b[0m\u001b[0m\n",
            "\u001b[0;32m/usr/local/lib/python3.6/dist-packages/pyttsx3/__init__.py\u001b[0m in \u001b[0;36minit\u001b[0;34m(driverName, debug)\u001b[0m\n\u001b[1;32m     20\u001b[0m         \u001b[0meng\u001b[0m \u001b[0;34m=\u001b[0m \u001b[0m_activeEngines\u001b[0m\u001b[0;34m[\u001b[0m\u001b[0mdriverName\u001b[0m\u001b[0;34m]\u001b[0m\u001b[0;34m\u001b[0m\u001b[0;34m\u001b[0m\u001b[0m\n\u001b[1;32m     21\u001b[0m     \u001b[0;32mexcept\u001b[0m \u001b[0mKeyError\u001b[0m\u001b[0;34m:\u001b[0m\u001b[0;34m\u001b[0m\u001b[0;34m\u001b[0m\u001b[0m\n\u001b[0;32m---> 22\u001b[0;31m         \u001b[0meng\u001b[0m \u001b[0;34m=\u001b[0m \u001b[0mEngine\u001b[0m\u001b[0;34m(\u001b[0m\u001b[0mdriverName\u001b[0m\u001b[0;34m,\u001b[0m \u001b[0mdebug\u001b[0m\u001b[0;34m)\u001b[0m\u001b[0;34m\u001b[0m\u001b[0;34m\u001b[0m\u001b[0m\n\u001b[0m\u001b[1;32m     23\u001b[0m         \u001b[0m_activeEngines\u001b[0m\u001b[0;34m[\u001b[0m\u001b[0mdriverName\u001b[0m\u001b[0;34m]\u001b[0m \u001b[0;34m=\u001b[0m \u001b[0meng\u001b[0m\u001b[0;34m\u001b[0m\u001b[0;34m\u001b[0m\u001b[0m\n\u001b[1;32m     24\u001b[0m     \u001b[0;32mreturn\u001b[0m \u001b[0meng\u001b[0m\u001b[0;34m\u001b[0m\u001b[0;34m\u001b[0m\u001b[0m\n",
            "\u001b[0;32m/usr/local/lib/python3.6/dist-packages/pyttsx3/engine.py\u001b[0m in \u001b[0;36m__init__\u001b[0;34m(self, driverName, debug)\u001b[0m\n\u001b[1;32m     28\u001b[0m         \u001b[0;34m@\u001b[0m\u001b[0mtype\u001b[0m \u001b[0mdebug\u001b[0m\u001b[0;34m:\u001b[0m \u001b[0mbool\u001b[0m\u001b[0;34m\u001b[0m\u001b[0;34m\u001b[0m\u001b[0m\n\u001b[1;32m     29\u001b[0m         \"\"\"\n\u001b[0;32m---> 30\u001b[0;31m         \u001b[0mself\u001b[0m\u001b[0;34m.\u001b[0m\u001b[0mproxy\u001b[0m \u001b[0;34m=\u001b[0m \u001b[0mdriver\u001b[0m\u001b[0;34m.\u001b[0m\u001b[0mDriverProxy\u001b[0m\u001b[0;34m(\u001b[0m\u001b[0mweakref\u001b[0m\u001b[0;34m.\u001b[0m\u001b[0mproxy\u001b[0m\u001b[0;34m(\u001b[0m\u001b[0mself\u001b[0m\u001b[0;34m)\u001b[0m\u001b[0;34m,\u001b[0m \u001b[0mdriverName\u001b[0m\u001b[0;34m,\u001b[0m \u001b[0mdebug\u001b[0m\u001b[0;34m)\u001b[0m\u001b[0;34m\u001b[0m\u001b[0;34m\u001b[0m\u001b[0m\n\u001b[0m\u001b[1;32m     31\u001b[0m         \u001b[0;31m# initialize other vars\u001b[0m\u001b[0;34m\u001b[0m\u001b[0;34m\u001b[0m\u001b[0;34m\u001b[0m\u001b[0m\n\u001b[1;32m     32\u001b[0m         \u001b[0mself\u001b[0m\u001b[0;34m.\u001b[0m\u001b[0m_connects\u001b[0m \u001b[0;34m=\u001b[0m \u001b[0;34m{\u001b[0m\u001b[0;34m}\u001b[0m\u001b[0;34m\u001b[0m\u001b[0;34m\u001b[0m\u001b[0m\n",
            "\u001b[0;32m/usr/local/lib/python3.6/dist-packages/pyttsx3/driver.py\u001b[0m in \u001b[0;36m__init__\u001b[0;34m(self, engine, driverName, debug)\u001b[0m\n\u001b[1;32m     48\u001b[0m         \u001b[0;31m# import driver module\u001b[0m\u001b[0;34m\u001b[0m\u001b[0;34m\u001b[0m\u001b[0;34m\u001b[0m\u001b[0m\n\u001b[1;32m     49\u001b[0m         \u001b[0mname\u001b[0m \u001b[0;34m=\u001b[0m \u001b[0;34m'pyttsx3.drivers.%s'\u001b[0m \u001b[0;34m%\u001b[0m \u001b[0mdriverName\u001b[0m\u001b[0;34m\u001b[0m\u001b[0;34m\u001b[0m\u001b[0m\n\u001b[0;32m---> 50\u001b[0;31m         \u001b[0mself\u001b[0m\u001b[0;34m.\u001b[0m\u001b[0m_module\u001b[0m \u001b[0;34m=\u001b[0m \u001b[0mimportlib\u001b[0m\u001b[0;34m.\u001b[0m\u001b[0mimport_module\u001b[0m\u001b[0;34m(\u001b[0m\u001b[0mname\u001b[0m\u001b[0;34m)\u001b[0m\u001b[0;34m\u001b[0m\u001b[0;34m\u001b[0m\u001b[0m\n\u001b[0m\u001b[1;32m     51\u001b[0m         \u001b[0;31m# build driver instance\u001b[0m\u001b[0;34m\u001b[0m\u001b[0;34m\u001b[0m\u001b[0;34m\u001b[0m\u001b[0m\n\u001b[1;32m     52\u001b[0m         \u001b[0mself\u001b[0m\u001b[0;34m.\u001b[0m\u001b[0m_driver\u001b[0m \u001b[0;34m=\u001b[0m \u001b[0mself\u001b[0m\u001b[0;34m.\u001b[0m\u001b[0m_module\u001b[0m\u001b[0;34m.\u001b[0m\u001b[0mbuildDriver\u001b[0m\u001b[0;34m(\u001b[0m\u001b[0mweakref\u001b[0m\u001b[0;34m.\u001b[0m\u001b[0mproxy\u001b[0m\u001b[0;34m(\u001b[0m\u001b[0mself\u001b[0m\u001b[0;34m)\u001b[0m\u001b[0;34m)\u001b[0m\u001b[0;34m\u001b[0m\u001b[0;34m\u001b[0m\u001b[0m\n",
            "\u001b[0;32m/usr/lib/python3.6/importlib/__init__.py\u001b[0m in \u001b[0;36mimport_module\u001b[0;34m(name, package)\u001b[0m\n\u001b[1;32m    124\u001b[0m                 \u001b[0;32mbreak\u001b[0m\u001b[0;34m\u001b[0m\u001b[0;34m\u001b[0m\u001b[0m\n\u001b[1;32m    125\u001b[0m             \u001b[0mlevel\u001b[0m \u001b[0;34m+=\u001b[0m \u001b[0;36m1\u001b[0m\u001b[0;34m\u001b[0m\u001b[0;34m\u001b[0m\u001b[0m\n\u001b[0;32m--> 126\u001b[0;31m     \u001b[0;32mreturn\u001b[0m \u001b[0m_bootstrap\u001b[0m\u001b[0;34m.\u001b[0m\u001b[0m_gcd_import\u001b[0m\u001b[0;34m(\u001b[0m\u001b[0mname\u001b[0m\u001b[0;34m[\u001b[0m\u001b[0mlevel\u001b[0m\u001b[0;34m:\u001b[0m\u001b[0;34m]\u001b[0m\u001b[0;34m,\u001b[0m \u001b[0mpackage\u001b[0m\u001b[0;34m,\u001b[0m \u001b[0mlevel\u001b[0m\u001b[0;34m)\u001b[0m\u001b[0;34m\u001b[0m\u001b[0;34m\u001b[0m\u001b[0m\n\u001b[0m\u001b[1;32m    127\u001b[0m \u001b[0;34m\u001b[0m\u001b[0m\n\u001b[1;32m    128\u001b[0m \u001b[0;34m\u001b[0m\u001b[0m\n",
            "\u001b[0;32m/usr/lib/python3.6/importlib/_bootstrap.py\u001b[0m in \u001b[0;36m_gcd_import\u001b[0;34m(name, package, level)\u001b[0m\n",
            "\u001b[0;32m/usr/lib/python3.6/importlib/_bootstrap.py\u001b[0m in \u001b[0;36m_find_and_load\u001b[0;34m(name, import_)\u001b[0m\n",
            "\u001b[0;32m/usr/lib/python3.6/importlib/_bootstrap.py\u001b[0m in \u001b[0;36m_find_and_load_unlocked\u001b[0;34m(name, import_)\u001b[0m\n",
            "\u001b[0;32m/usr/lib/python3.6/importlib/_bootstrap.py\u001b[0m in \u001b[0;36m_load_unlocked\u001b[0;34m(spec)\u001b[0m\n",
            "\u001b[0;32m/usr/lib/python3.6/importlib/_bootstrap_external.py\u001b[0m in \u001b[0;36mexec_module\u001b[0;34m(self, module)\u001b[0m\n",
            "\u001b[0;32m/usr/lib/python3.6/importlib/_bootstrap.py\u001b[0m in \u001b[0;36m_call_with_frames_removed\u001b[0;34m(f, *args, **kwds)\u001b[0m\n",
            "\u001b[0;32m/usr/local/lib/python3.6/dist-packages/pyttsx3/drivers/espeak.py\u001b[0m in \u001b[0;36m<module>\u001b[0;34m()\u001b[0m\n\u001b[1;32m      7\u001b[0m \u001b[0;32mfrom\u001b[0m \u001b[0mtempfile\u001b[0m \u001b[0;32mimport\u001b[0m \u001b[0mNamedTemporaryFile\u001b[0m\u001b[0;34m\u001b[0m\u001b[0;34m\u001b[0m\u001b[0m\n\u001b[1;32m      8\u001b[0m \u001b[0;32mfrom\u001b[0m \u001b[0;34m.\u001b[0m\u001b[0;34m.\u001b[0m\u001b[0mvoice\u001b[0m \u001b[0;32mimport\u001b[0m \u001b[0mVoice\u001b[0m\u001b[0;34m\u001b[0m\u001b[0;34m\u001b[0m\u001b[0m\n\u001b[0;32m----> 9\u001b[0;31m \u001b[0;32mfrom\u001b[0m \u001b[0;34m.\u001b[0m \u001b[0;32mimport\u001b[0m \u001b[0m_espeak\u001b[0m\u001b[0;34m,\u001b[0m \u001b[0mtoUtf8\u001b[0m\u001b[0;34m,\u001b[0m \u001b[0mfromUtf8\u001b[0m\u001b[0;34m\u001b[0m\u001b[0;34m\u001b[0m\u001b[0m\n\u001b[0m\u001b[1;32m     10\u001b[0m \u001b[0;34m\u001b[0m\u001b[0m\n\u001b[1;32m     11\u001b[0m \u001b[0;34m\u001b[0m\u001b[0m\n",
            "\u001b[0;32m/usr/local/lib/python3.6/dist-packages/pyttsx3/drivers/_espeak.py\u001b[0m in \u001b[0;36m<module>\u001b[0;34m()\u001b[0m\n\u001b[1;32m     16\u001b[0m     \u001b[0;32mreturn\u001b[0m \u001b[0mCFUNCTYPE\u001b[0m\u001b[0;34m(\u001b[0m\u001b[0mresult\u001b[0m\u001b[0;34m,\u001b[0m \u001b[0;34m*\u001b[0m\u001b[0matypes\u001b[0m\u001b[0;34m)\u001b[0m\u001b[0;34m(\u001b[0m\u001b[0;34m(\u001b[0m\u001b[0mname\u001b[0m\u001b[0;34m,\u001b[0m \u001b[0mdll\u001b[0m\u001b[0;34m)\u001b[0m\u001b[0;34m,\u001b[0m \u001b[0mtuple\u001b[0m\u001b[0;34m(\u001b[0m\u001b[0maflags\u001b[0m\u001b[0;34m)\u001b[0m\u001b[0;34m)\u001b[0m\u001b[0;34m\u001b[0m\u001b[0;34m\u001b[0m\u001b[0m\n\u001b[1;32m     17\u001b[0m \u001b[0;34m\u001b[0m\u001b[0m\n\u001b[0;32m---> 18\u001b[0;31m \u001b[0mdll\u001b[0m \u001b[0;34m=\u001b[0m \u001b[0mcdll\u001b[0m\u001b[0;34m.\u001b[0m\u001b[0mLoadLibrary\u001b[0m\u001b[0;34m(\u001b[0m\u001b[0;34m'libespeak.so.1'\u001b[0m\u001b[0;34m)\u001b[0m\u001b[0;34m\u001b[0m\u001b[0;34m\u001b[0m\u001b[0m\n\u001b[0m\u001b[1;32m     19\u001b[0m \u001b[0;34m\u001b[0m\u001b[0m\n\u001b[1;32m     20\u001b[0m \u001b[0;31m# constants and such from speak_lib.h\u001b[0m\u001b[0;34m\u001b[0m\u001b[0;34m\u001b[0m\u001b[0;34m\u001b[0m\u001b[0m\n",
            "\u001b[0;32m/usr/lib/python3.6/ctypes/__init__.py\u001b[0m in \u001b[0;36mLoadLibrary\u001b[0;34m(self, name)\u001b[0m\n\u001b[1;32m    424\u001b[0m \u001b[0;34m\u001b[0m\u001b[0m\n\u001b[1;32m    425\u001b[0m     \u001b[0;32mdef\u001b[0m \u001b[0mLoadLibrary\u001b[0m\u001b[0;34m(\u001b[0m\u001b[0mself\u001b[0m\u001b[0;34m,\u001b[0m \u001b[0mname\u001b[0m\u001b[0;34m)\u001b[0m\u001b[0;34m:\u001b[0m\u001b[0;34m\u001b[0m\u001b[0;34m\u001b[0m\u001b[0m\n\u001b[0;32m--> 426\u001b[0;31m         \u001b[0;32mreturn\u001b[0m \u001b[0mself\u001b[0m\u001b[0;34m.\u001b[0m\u001b[0m_dlltype\u001b[0m\u001b[0;34m(\u001b[0m\u001b[0mname\u001b[0m\u001b[0;34m)\u001b[0m\u001b[0;34m\u001b[0m\u001b[0;34m\u001b[0m\u001b[0m\n\u001b[0m\u001b[1;32m    427\u001b[0m \u001b[0;34m\u001b[0m\u001b[0m\n\u001b[1;32m    428\u001b[0m \u001b[0mcdll\u001b[0m \u001b[0;34m=\u001b[0m \u001b[0mLibraryLoader\u001b[0m\u001b[0;34m(\u001b[0m\u001b[0mCDLL\u001b[0m\u001b[0;34m)\u001b[0m\u001b[0;34m\u001b[0m\u001b[0;34m\u001b[0m\u001b[0m\n",
            "\u001b[0;32m/usr/lib/python3.6/ctypes/__init__.py\u001b[0m in \u001b[0;36m__init__\u001b[0;34m(self, name, mode, handle, use_errno, use_last_error)\u001b[0m\n\u001b[1;32m    346\u001b[0m \u001b[0;34m\u001b[0m\u001b[0m\n\u001b[1;32m    347\u001b[0m         \u001b[0;32mif\u001b[0m \u001b[0mhandle\u001b[0m \u001b[0;32mis\u001b[0m \u001b[0;32mNone\u001b[0m\u001b[0;34m:\u001b[0m\u001b[0;34m\u001b[0m\u001b[0;34m\u001b[0m\u001b[0m\n\u001b[0;32m--> 348\u001b[0;31m             \u001b[0mself\u001b[0m\u001b[0;34m.\u001b[0m\u001b[0m_handle\u001b[0m \u001b[0;34m=\u001b[0m \u001b[0m_dlopen\u001b[0m\u001b[0;34m(\u001b[0m\u001b[0mself\u001b[0m\u001b[0;34m.\u001b[0m\u001b[0m_name\u001b[0m\u001b[0;34m,\u001b[0m \u001b[0mmode\u001b[0m\u001b[0;34m)\u001b[0m\u001b[0;34m\u001b[0m\u001b[0;34m\u001b[0m\u001b[0m\n\u001b[0m\u001b[1;32m    349\u001b[0m         \u001b[0;32melse\u001b[0m\u001b[0;34m:\u001b[0m\u001b[0;34m\u001b[0m\u001b[0;34m\u001b[0m\u001b[0m\n\u001b[1;32m    350\u001b[0m             \u001b[0mself\u001b[0m\u001b[0;34m.\u001b[0m\u001b[0m_handle\u001b[0m \u001b[0;34m=\u001b[0m \u001b[0mhandle\u001b[0m\u001b[0;34m\u001b[0m\u001b[0;34m\u001b[0m\u001b[0m\n",
            "\u001b[0;31mOSError\u001b[0m: libespeak.so.1: cannot open shared object file: No such file or directory"
          ]
        }
      ]
    },
    {
      "cell_type": "code",
      "metadata": {
        "id": "alQnt-ft1PqD"
      },
      "source": [
        ""
      ],
      "execution_count": null,
      "outputs": []
    }
  ]
}